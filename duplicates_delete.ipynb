{
 "cells": [
  {
   "cell_type": "code",
   "execution_count": 1,
   "id": "65ab83a5",
   "metadata": {},
   "outputs": [],
   "source": [
    "import os\n",
    "import matplotlib.pyplot as plt\n",
    "import numpy as np\n",
    "import os, shutil"
   ]
  },
  {
   "cell_type": "code",
   "execution_count": 4,
   "id": "41844b04",
   "metadata": {},
   "outputs": [],
   "source": [
    "fol_names = ['fearful', 'happy', 'sad', 'neutral',\n",
    "             'angry', 'disgusted', 'surprised']"
   ]
  },
  {
   "cell_type": "code",
   "execution_count": 5,
   "id": "1e36eb27",
   "metadata": {},
   "outputs": [],
   "source": [
    "# .DS_Store remove\n",
    "\n",
    "for fol in fol_names:\n",
    "    try:\n",
    "        os.remove('train/' + fol + '/.DS_Store')\n",
    "        print('1')\n",
    "    except:\n",
    "        pass"
   ]
  },
  {
   "cell_type": "code",
   "execution_count": 6,
   "id": "1fc9ec66",
   "metadata": {},
   "outputs": [],
   "source": [
    "# .DS_Store remove\n",
    "\n",
    "for fol in fol_names:\n",
    "    try:\n",
    "        os.remove('test/' + fol + '/.DS_Store')\n",
    "        print('1')\n",
    "    except:\n",
    "        pass"
   ]
  },
  {
   "cell_type": "code",
   "execution_count": 3,
   "id": "fd9b58df",
   "metadata": {},
   "outputs": [],
   "source": [
    "# moving images from 'test' to 'train' folder to remove duplicates.\n",
    "\n",
    "for fol in fol_names:\n",
    "    \n",
    "    fnames = os.listdir('test/' + fol)\n",
    "    \n",
    "    fol_prev = 'test/' + fol\n",
    "    fol_new = 'train/' + fol\n",
    "                        \n",
    "    for fi in fnames:\n",
    "        src = os.path.join(fol_prev,fi)\n",
    "        fi = 'test' + fi\n",
    "        dst = os.path.join(fol_new, fi)\n",
    "        shutil.copyfile(src,dst)"
   ]
  },
  {
   "cell_type": "code",
   "execution_count": 11,
   "id": "30e6a2d9",
   "metadata": {},
   "outputs": [],
   "source": [
    "# move images to new folder without duplicates\n",
    "\n",
    "for fol in fol_names:\n",
    "    \n",
    "    fnames = os.listdir('train/' + fol)\n",
    "    \n",
    "    img_dict = {}\n",
    "    \n",
    "    for i in fnames:\n",
    "        img = plt.imread('train/' + fol + '/' + i)\n",
    "        img_dict[i] = img\n",
    "    \n",
    "    unique_img = []\n",
    "    unique_fnames = []\n",
    "    \n",
    "    for k, v in img_dict.items():\n",
    "    \n",
    "        flag = False\n",
    "    \n",
    "        for i in unique_img:\n",
    "            if np.array_equal(v, i):\n",
    "                flag = True\n",
    "            \n",
    "        if not flag:\n",
    "\n",
    "            unique_img.append(v)\n",
    "        \n",
    "            unique_fnames.append(k)\n",
    "            \n",
    "    fol_prev = 'train/' + fol + '/'\n",
    "    fol_new = 'train/' + fol + '_new/'\n",
    "                        \n",
    "    for fi in unique_fnames:\n",
    "        src = os.path.join(fol_prev,fi)\n",
    "        dst = os.path.join(fol_new, fi)\n",
    "        shutil.copyfile(src,dst)"
   ]
  }
 ],
 "metadata": {
  "kernelspec": {
   "display_name": "Python 3.9 (tensorflow)",
   "language": "python",
   "name": "tensorflow"
  },
  "language_info": {
   "codemirror_mode": {
    "name": "ipython",
    "version": 3
   },
   "file_extension": ".py",
   "mimetype": "text/x-python",
   "name": "python",
   "nbconvert_exporter": "python",
   "pygments_lexer": "ipython3",
   "version": "3.9.13"
  }
 },
 "nbformat": 4,
 "nbformat_minor": 5
}
